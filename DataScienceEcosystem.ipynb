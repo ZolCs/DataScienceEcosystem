{
 "cells": [
  {
   "cell_type": "markdown",
   "id": "a0359616-8ac2-40ab-8657-0031978707e9",
   "metadata": {},
   "source": [
    "# Data Science Tools and Ecosystem"
   ]
  },
  {
   "cell_type": "markdown",
   "id": "a33b5bea-39c0-4bc0-971e-4eee20df8330",
   "metadata": {},
   "source": [
    "# In this notebook, Data Science Tool and Ecosystem are summarized."
   ]
  },
  {
   "cell_type": "markdown",
   "id": "c9232037-3ddb-499f-abb7-d9e8ff9f96ac",
   "metadata": {},
   "source": [
    "**Objectives:**\n",
    "- Some of the popular languages that Data Scientist use are.\n",
    "- Some of the commonly used libraries used by Data Scientists include.\n",
    "- Below are a few examples of evaluating arithmetic expression in Python.\n",
    "- This a simple arithmetic expression to multiply then add integers.\n",
    "- This will convert 200 minutes to hours by diving by 60."
   ]
  },
  {
   "cell_type": "markdown",
   "id": "e8537c3a-b31b-462d-ad06-0364ea68c82a",
   "metadata": {},
   "source": [
    "# Some of the popular languages that Data Scientist use are:\n",
    "\n",
    "1. Python\n",
    "2. R\n",
    "3. SQL\n",
    "4. Scala\n",
    "5. Java\n",
    "6. Julia\n",
    "7. C++"
   ]
  },
  {
   "cell_type": "markdown",
   "id": "3e13ca70-b3ac-48d4-ace4-e385a22bd18e",
   "metadata": {},
   "source": [
    "# Some of the commonly used libraries used by Data Scientists include:\n",
    "\n",
    "1. Panda\n",
    "2. NumPy\n",
    "3. Matplotlib\n",
    "4. Seaborn\n",
    "5. Scikit\n",
    "6. Keras\n",
    "7. TensorFlow"
   ]
  },
  {
   "cell_type": "markdown",
   "id": "0fea961b-8823-4254-90a9-14e93cbfd81d",
   "metadata": {},
   "source": [
    "| Data Science Tools |\n",
    "|:------------------:|\n",
    "| Jupiter Notebook |\n",
    "| R Studio |\n",
    "| Apache Zeppelin |"
   ]
  },
  {
   "cell_type": "markdown",
   "id": "f029f1be-2ded-4fac-9999-2109edf22c4a",
   "metadata": {},
   "source": [
    "### Below are a few examples of evaluating arithmetic expression in Python."
   ]
  },
  {
   "cell_type": "code",
   "execution_count": 17,
   "id": "07aaf507-d49f-4b45-99d4-2668963aa9de",
   "metadata": {
    "tags": []
   },
   "outputs": [
    {
     "data": {
      "text/plain": [
       "17"
      ]
     },
     "execution_count": 17,
     "metadata": {},
     "output_type": "execute_result"
    }
   ],
   "source": [
    "# This a simple arithmetic expression to multiply then add integers.\n",
    "\n",
    "(3*4)+5"
   ]
  },
  {
   "cell_type": "code",
   "execution_count": 16,
   "id": "7ae4c887-f07d-47e1-b1b0-c710c4ac4411",
   "metadata": {
    "tags": []
   },
   "outputs": [
    {
     "name": "stdout",
     "output_type": "stream",
     "text": [
      "200 minutes is 3 hours\n"
     ]
    }
   ],
   "source": [
    "# This will convert 200 minutes to hours by diving by 60.\n",
    "\n",
    "minutes=200\n",
    "hours=minutes//60\n",
    "\n",
    "print (minutes, \"minutes is\", hours, \"hours\" )"
   ]
  },
  {
   "cell_type": "markdown",
   "id": "7e0bb132-5772-4d38-969c-056f34f9075f",
   "metadata": {},
   "source": [
    "## Author:\n",
    "Zoltan Csiki"
   ]
  },
  {
   "cell_type": "code",
   "execution_count": null,
   "id": "8d3da9d9-02ac-4dcf-92ce-7a5bfa50b19d",
   "metadata": {},
   "outputs": [],
   "source": []
  }
 ],
 "metadata": {
  "kernelspec": {
   "display_name": "Python",
   "language": "python",
   "name": "conda-env-python-py"
  },
  "language_info": {
   "codemirror_mode": {
    "name": "ipython",
    "version": 3
   },
   "file_extension": ".py",
   "mimetype": "text/x-python",
   "name": "python",
   "nbconvert_exporter": "python",
   "pygments_lexer": "ipython3",
   "version": "3.7.12"
  }
 },
 "nbformat": 4,
 "nbformat_minor": 5
}
